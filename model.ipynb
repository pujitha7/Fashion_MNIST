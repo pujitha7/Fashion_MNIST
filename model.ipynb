{
 "cells": [
  {
   "cell_type": "code",
   "execution_count": 24,
   "metadata": {},
   "outputs": [],
   "source": [
    "import keras\n",
    "import numpy as np\n",
    "import pandas as pd\n",
    "from keras.models import Sequential\n",
    "from keras.layers import Dense, Dropout, Flatten,Activation\n",
    "from keras.layers import Conv2D, MaxPooling2D\n",
    "from keras.layers import Input\n",
    "from keras.models import Model\n",
    "from keras.layers.normalization import BatchNormalization\n",
    "from keras.layers import LeakyReLU\n",
    "from keras.layers import Input,ZeroPadding2D,InputLayer\n",
    "from keras.models import Model\n",
    "\n",
    "import warnings\n",
    "warnings.filterwarnings('ignore')"
   ]
  },
  {
   "cell_type": "code",
   "execution_count": 25,
   "metadata": {},
   "outputs": [
    {
     "data": {
      "text/plain": [
       "(11995, 784)"
      ]
     },
     "execution_count": 25,
     "metadata": {},
     "output_type": "execute_result"
    }
   ],
   "source": [
    "train_data=pd.read_csv(\"Train.csv\")\n",
    "target=train_data['label']\n",
    "train_data.drop('label', inplace=True, axis=1)\n",
    "np.shape(train_data)"
   ]
  },
  {
   "cell_type": "code",
   "execution_count": 26,
   "metadata": {},
   "outputs": [
    {
     "data": {
      "text/plain": [
       "(11995,)"
      ]
     },
     "execution_count": 26,
     "metadata": {},
     "output_type": "execute_result"
    }
   ],
   "source": [
    "np.shape(target)"
   ]
  },
  {
   "cell_type": "code",
   "execution_count": 27,
   "metadata": {},
   "outputs": [
    {
     "data": {
      "text/plain": [
       "(3000, 784)"
      ]
     },
     "execution_count": 27,
     "metadata": {},
     "output_type": "execute_result"
    }
   ],
   "source": [
    "test_data=pd.read_csv(\"Test.csv\")\n",
    "np.shape(test_data)"
   ]
  },
  {
   "cell_type": "code",
   "execution_count": 28,
   "metadata": {
    "collapsed": true
   },
   "outputs": [],
   "source": [
    "train_data=np.array(train_data)\n",
    "test_data=np.array(test_data)\n",
    "target=np.array(target)"
   ]
  },
  {
   "cell_type": "code",
   "execution_count": 29,
   "metadata": {
    "collapsed": true
   },
   "outputs": [],
   "source": [
    "train_data = train_data.reshape(train_data.shape[0], 28, 28, 1)\n",
    "test_data = test_data.reshape(test_data.shape[0], 28, 28, 1)"
   ]
  },
  {
   "cell_type": "code",
   "execution_count": 30,
   "metadata": {},
   "outputs": [
    {
     "data": {
      "text/plain": [
       "(11995, 28, 28, 1)"
      ]
     },
     "execution_count": 30,
     "metadata": {},
     "output_type": "execute_result"
    }
   ],
   "source": [
    "np.shape(train_data)"
   ]
  },
  {
   "cell_type": "code",
   "execution_count": 31,
   "metadata": {},
   "outputs": [
    {
     "name": "stdout",
     "output_type": "stream",
     "text": [
      "x_train shape: (11995, 28, 28, 1)\n",
      "11995 train samples\n",
      "3000 test samples\n"
     ]
    }
   ],
   "source": [
    "#Pre-processing\n",
    "\n",
    "train_data = train_data.astype('float32')\n",
    "test_data = test_data.astype('float32')\n",
    "train_data /= 255\n",
    "test_data /= 255\n",
    "print('x_train shape:', train_data.shape)\n",
    "print(train_data.shape[0], 'train samples')\n",
    "print(test_data.shape[0], 'test samples')"
   ]
  },
  {
   "cell_type": "code",
   "execution_count": 32,
   "metadata": {},
   "outputs": [
    {
     "data": {
      "text/plain": [
       "(11995, 10)"
      ]
     },
     "execution_count": 32,
     "metadata": {},
     "output_type": "execute_result"
    }
   ],
   "source": [
    "#One-Hot encoding of target\n",
    "target = keras.utils.to_categorical(target, 10)\n",
    "np.shape(target)"
   ]
  },
  {
   "cell_type": "code",
   "execution_count": 33,
   "metadata": {
    "collapsed": true
   },
   "outputs": [],
   "source": [
    "#Model building\n",
    "\n",
    "model=Sequential()\n",
    "\n",
    "model.add(Conv2D(filters=32, kernel_size=(3, 3), padding=\"same\", \n",
    "          input_shape=(28,28,1), activation='relu'))\n",
    "\n",
    "model.add(Conv2D(filters=64, kernel_size=(3, 3), padding=\"same\", activation='relu'))\n",
    "model.add(MaxPooling2D(pool_size=(2, 2)))\n",
    "\n",
    "model.add(Dropout(0.5))\n",
    "\n",
    "model.add(Conv2D(filters=128, kernel_size=(3, 3), padding=\"same\", activation='relu'))\n",
    "model.add(Conv2D(filters=256, kernel_size=(3, 3), padding=\"valid\", activation='relu'))\n",
    "\n",
    "model.add(MaxPooling2D(pool_size=(3, 3)))\n",
    "\n",
    "model.add(Dropout(0.5))\n",
    "\n",
    "model.add(Flatten())\n",
    "model.add(Dense(256))\n",
    "model.add(LeakyReLU())\n",
    "model.add(Dropout(0.5))\n",
    "model.add(Dense(256))\n",
    "model.add(LeakyReLU())\n",
    "model.add(Dense(128))\n",
    "model.add(LeakyReLU())\n",
    "\n",
    "model.add(Dense(10, activation='softmax'))"
   ]
  },
  {
   "cell_type": "code",
   "execution_count": 34,
   "metadata": {},
   "outputs": [
    {
     "name": "stdout",
     "output_type": "stream",
     "text": [
      "_________________________________________________________________\n",
      "Layer (type)                 Output Shape              Param #   \n",
      "=================================================================\n",
      "conv2d_5 (Conv2D)            (None, 28, 28, 32)        320       \n",
      "_________________________________________________________________\n",
      "conv2d_6 (Conv2D)            (None, 28, 28, 64)        18496     \n",
      "_________________________________________________________________\n",
      "max_pooling2d_3 (MaxPooling2 (None, 14, 14, 64)        0         \n",
      "_________________________________________________________________\n",
      "dropout_4 (Dropout)          (None, 14, 14, 64)        0         \n",
      "_________________________________________________________________\n",
      "conv2d_7 (Conv2D)            (None, 14, 14, 128)       73856     \n",
      "_________________________________________________________________\n",
      "conv2d_8 (Conv2D)            (None, 12, 12, 256)       295168    \n",
      "_________________________________________________________________\n",
      "max_pooling2d_4 (MaxPooling2 (None, 4, 4, 256)         0         \n",
      "_________________________________________________________________\n",
      "dropout_5 (Dropout)          (None, 4, 4, 256)         0         \n",
      "_________________________________________________________________\n",
      "flatten_2 (Flatten)          (None, 4096)              0         \n",
      "_________________________________________________________________\n",
      "dense_5 (Dense)              (None, 256)               1048832   \n",
      "_________________________________________________________________\n",
      "leaky_re_lu_4 (LeakyReLU)    (None, 256)               0         \n",
      "_________________________________________________________________\n",
      "dropout_6 (Dropout)          (None, 256)               0         \n",
      "_________________________________________________________________\n",
      "dense_6 (Dense)              (None, 256)               65792     \n",
      "_________________________________________________________________\n",
      "leaky_re_lu_5 (LeakyReLU)    (None, 256)               0         \n",
      "_________________________________________________________________\n",
      "dense_7 (Dense)              (None, 128)               32896     \n",
      "_________________________________________________________________\n",
      "leaky_re_lu_6 (LeakyReLU)    (None, 128)               0         \n",
      "_________________________________________________________________\n",
      "dense_8 (Dense)              (None, 10)                1290      \n",
      "=================================================================\n",
      "Total params: 1,536,650\n",
      "Trainable params: 1,536,650\n",
      "Non-trainable params: 0\n",
      "_________________________________________________________________\n"
     ]
    }
   ],
   "source": [
    "model.summary()"
   ]
  },
  {
   "cell_type": "code",
   "execution_count": 35,
   "metadata": {
    "collapsed": true
   },
   "outputs": [],
   "source": [
    "model.compile(loss='categorical_crossentropy',\n",
    "              optimizer='Adam',\n",
    "              metrics=['accuracy'])"
   ]
  },
  {
   "cell_type": "code",
   "execution_count": 36,
   "metadata": {
    "collapsed": true
   },
   "outputs": [],
   "source": [
    "batch_size=128"
   ]
  },
  {
   "cell_type": "code",
   "execution_count": 37,
   "metadata": {
    "collapsed": true
   },
   "outputs": [],
   "source": [
    "from keras.preprocessing.image import ImageDataGenerator"
   ]
  },
  {
   "cell_type": "code",
   "execution_count": 38,
   "metadata": {
    "collapsed": true
   },
   "outputs": [],
   "source": [
    "#Data Augmentation\n",
    "gen = ImageDataGenerator(rotation_range=8, width_shift_range=0.08, shear_range=0.3,\n",
    "                         height_shift_range=0.08, zoom_range=0.08)"
   ]
  },
  {
   "cell_type": "code",
   "execution_count": 39,
   "metadata": {
    "collapsed": true
   },
   "outputs": [],
   "source": [
    "train_generator = gen.flow(train_data, target, batch_size=batch_size)"
   ]
  },
  {
   "cell_type": "code",
   "execution_count": 40,
   "metadata": {},
   "outputs": [
    {
     "data": {
      "text/plain": [
       "11995"
      ]
     },
     "execution_count": 40,
     "metadata": {},
     "output_type": "execute_result"
    }
   ],
   "source": [
    "len(train_data)"
   ]
  },
  {
   "cell_type": "code",
   "execution_count": 41,
   "metadata": {
    "collapsed": true
   },
   "outputs": [],
   "source": [
    "from sklearn.model_selection import train_test_split"
   ]
  },
  {
   "cell_type": "code",
   "execution_count": 42,
   "metadata": {
    "collapsed": true
   },
   "outputs": [],
   "source": [
    "train_x,test_x,train_y,test_y=train_test_split(train_data,target,test_size=0.2)"
   ]
  },
  {
   "cell_type": "code",
   "execution_count": 43,
   "metadata": {},
   "outputs": [
    {
     "name": "stdout",
     "output_type": "stream",
     "text": [
      "Epoch 1/20\n",
      "93/93 [==============================] - 185s 2s/step - loss: 1.1280 - acc: 0.5681 - val_loss: 0.6395 - val_acc: 0.7532\n",
      "Epoch 2/20\n",
      "93/93 [==============================] - 182s 2s/step - loss: 0.6805 - acc: 0.7379 - val_loss: 0.5464 - val_acc: 0.7662\n",
      "Epoch 3/20\n",
      "93/93 [==============================] - 183s 2s/step - loss: 0.6257 - acc: 0.7519 - val_loss: 0.4986 - val_acc: 0.7907\n",
      "Epoch 4/20\n",
      "93/93 [==============================] - 194s 2s/step - loss: 0.5741 - acc: 0.7752 - val_loss: 0.4706 - val_acc: 0.8178\n",
      "Epoch 5/20\n",
      "93/93 [==============================] - 187s 2s/step - loss: 0.5378 - acc: 0.7890 - val_loss: 0.4124 - val_acc: 0.8378\n",
      "Epoch 6/20\n",
      "93/93 [==============================] - 196s 2s/step - loss: 0.5230 - acc: 0.7949 - val_loss: 0.3912 - val_acc: 0.8391\n",
      "Epoch 7/20\n",
      "93/93 [==============================] - 196s 2s/step - loss: 0.4957 - acc: 0.8102 - val_loss: 0.3700 - val_acc: 0.8533\n",
      "Epoch 8/20\n",
      "93/93 [==============================] - 201s 2s/step - loss: 0.4857 - acc: 0.8083 - val_loss: 0.3310 - val_acc: 0.8745\n",
      "Epoch 9/20\n",
      "93/93 [==============================] - 199s 2s/step - loss: 0.4600 - acc: 0.8229 - val_loss: 0.3603 - val_acc: 0.8633\n",
      "Epoch 10/20\n",
      "93/93 [==============================] - 211s 2s/step - loss: 0.4557 - acc: 0.8249 - val_loss: 0.3170 - val_acc: 0.8774\n",
      "Epoch 11/20\n",
      "93/93 [==============================] - 196s 2s/step - loss: 0.4287 - acc: 0.8354 - val_loss: 0.3042 - val_acc: 0.8866\n",
      "Epoch 12/20\n",
      "93/93 [==============================] - 200s 2s/step - loss: 0.4151 - acc: 0.8436 - val_loss: 0.2970 - val_acc: 0.8825\n",
      "Epoch 13/20\n",
      "93/93 [==============================] - 192s 2s/step - loss: 0.4168 - acc: 0.8420 - val_loss: 0.2649 - val_acc: 0.8991\n",
      "Epoch 14/20\n",
      "93/93 [==============================] - 193s 2s/step - loss: 0.4069 - acc: 0.8429 - val_loss: 0.2820 - val_acc: 0.8850\n",
      "Epoch 15/20\n",
      "93/93 [==============================] - 200s 2s/step - loss: 0.3962 - acc: 0.8499 - val_loss: 0.2606 - val_acc: 0.9025\n",
      "Epoch 16/20\n",
      "93/93 [==============================] - 195s 2s/step - loss: 0.3712 - acc: 0.8575 - val_loss: 0.2433 - val_acc: 0.9104\n",
      "Epoch 17/20\n",
      "93/93 [==============================] - 204s 2s/step - loss: 0.3833 - acc: 0.8540 - val_loss: 0.2578 - val_acc: 0.8966\n",
      "Epoch 18/20\n",
      "93/93 [==============================] - 199s 2s/step - loss: 0.3677 - acc: 0.8615 - val_loss: 0.2532 - val_acc: 0.9020\n",
      "Epoch 19/20\n",
      "93/93 [==============================] - 196s 2s/step - loss: 0.3531 - acc: 0.8673 - val_loss: 0.2370 - val_acc: 0.9079\n",
      "Epoch 20/20\n",
      "93/93 [==============================] - 199s 2s/step - loss: 0.3588 - acc: 0.8656 - val_loss: 0.2304 - val_acc: 0.9191\n"
     ]
    },
    {
     "data": {
      "text/plain": [
       "<keras.callbacks.History at 0x13f6c1e48>"
      ]
     },
     "execution_count": 43,
     "metadata": {},
     "output_type": "execute_result"
    }
   ],
   "source": [
    "model.fit_generator(train_generator, steps_per_epoch=len(train_data)//batch_size, \n",
    "                    epochs=20,validation_data=(test_x,test_y))"
   ]
  },
  {
   "cell_type": "code",
   "execution_count": 44,
   "metadata": {
    "collapsed": true
   },
   "outputs": [],
   "source": [
    "#Predictions on test data\n",
    "pred=model.predict(x=test_data)\n",
    "pred=np.argmax(a=pred,axis=1)\n",
    "np.shape(pred)\n",
    "pred=pd.DataFrame(pred)\n",
    "pred.to_csv(\"predictions.csv\")"
   ]
  }
 ],
 "metadata": {
  "kernelspec": {
   "display_name": "Python 3",
   "language": "python",
   "name": "python3"
  },
  "language_info": {
   "codemirror_mode": {
    "name": "ipython",
    "version": 3
   },
   "file_extension": ".py",
   "mimetype": "text/x-python",
   "name": "python",
   "nbconvert_exporter": "python",
   "pygments_lexer": "ipython3",
   "version": "3.6.3"
  }
 },
 "nbformat": 4,
 "nbformat_minor": 2
}
